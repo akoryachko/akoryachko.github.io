{
 "cells": [
  {
   "cell_type": "code",
   "execution_count": 4,
   "metadata": {},
   "outputs": [],
   "source": [
    "import pandas as pd\n",
    "import pycountry\n",
    "\n",
    "from update_countries import generate_countries, read_countries\n",
    "from utils import (\n",
    "    insert_section,\n",
    "    read_html_to_lines,\n",
    "    write_lines_to_html,\n",
    ")\n",
    "\n",
    "from pathlib import Path"
   ]
  },
  {
   "cell_type": "code",
   "execution_count": 6,
   "metadata": {},
   "outputs": [],
   "source": [
    "TA_HTML_PATH = Path.cwd().parent / \"public_html/travel_achievements.html\"\n",
    "COUNTRIES_PATH = Path.cwd() / \"data/countries.txt\""
   ]
  },
  {
   "cell_type": "code",
   "execution_count": 7,
   "metadata": {},
   "outputs": [],
   "source": [
    "lines_html = read_html_to_lines(TA_HTML_PATH)\n",
    "countries = read_countries(COUNTRIES_PATH)\n",
    "html_countries = generate_countries(countries)\n",
    "lines_html = insert_section(lines_html, html_countries, \"countries\")\n",
    "write_lines_to_html(lines_html, TA_HTML_PATH)"
   ]
  },
  {
   "cell_type": "code",
   "execution_count": 8,
   "metadata": {},
   "outputs": [
    {
     "data": {
      "text/plain": [
       "[Country(alpha_2='CY', alpha_3='CYP', flag='🇨🇾', name='Cyprus', numeric='196', official_name='Republic of Cyprus')]"
      ]
     },
     "execution_count": 8,
     "metadata": {},
     "output_type": "execute_result"
    }
   ],
   "source": [
    "[c for c in pycountry.countries if \"Cy\" in c.name]"
   ]
  },
  {
   "cell_type": "code",
   "execution_count": 5,
   "metadata": {},
   "outputs": [],
   "source": [
    "df_sites = pd.read_excel(\"data/whc-sites-2021.xls\")\n",
    "\n",
    "df_sites_en = df_sites[[c for c in df_sites.columns if \"_fr\" not in c]]\n",
    "\n",
    "df_sites_cats = df_sites_en[\n",
    "    [\n",
    "        \"name_en\",\n",
    "        \"short_description_en\",\n",
    "        \"iso_code\",\n",
    "        \"category\",\n",
    "        \"states_name_en\",\n",
    "        \"criteria_txt\",\n",
    "        \"rev_bis\",\n",
    "    ]\n",
    "].copy()\n",
    "\n",
    "df_sites_cats[\"iso_code\"] = df_sites_cats[\"iso_code\"].fillna(\"\")"
   ]
  },
  {
   "cell_type": "code",
   "execution_count": null,
   "metadata": {},
   "outputs": [],
   "source": [
    "def get_flag(iso_code: str) -> str:\n",
    "    c = iso_code.split(\",\")[0].upper()\n",
    "    country = pycountry.countries.get(alpha_2=c)\n",
    "    flg = country.flag if country else \"\"\n",
    "    return flg\n",
    "\n",
    "\n",
    "place_descriptors = [\n",
    "    \"city of\",\n",
    "    \"old city of\",\n",
    "    \"old town of\",\n",
    "    \"ancient city of\",\n",
    "    \"historic centre of\",\n",
    "    \"historic city of\",\n",
    "    \"historic town of\",\n",
    "    \"sacred city of\",\n",
    "]\n",
    "\n",
    "known_cities = [\n",
    "    \"Venice\",\n",
    "    \"Budapest\",\n",
    "    \"Brasilia\",\n",
    "    \"Rio de Janeiro\",\n",
    "    \"Tiwanaku\",\n",
    "    \"Asmara\",\n",
    "    \"Aksum\",\n",
    "    \"Nice\",\n",
    "    \"Fatehpur Sikri\",\n",
    "    \"Jaipur\",\n",
    "    \"Dholavira\",\n",
    "    \"Hatra\",\n",
    "    \"Babylon\",\n",
    "    \"Ashur\",\n",
    "    \"Anjar\",\n",
    "    \"Baalbek\",\n",
    "    \"Namhansanseong\",\n",
    "    \"San Marino\",\n",
    "    \"Kairouan\",\n",
    "    \"Ephesus\",\n",
    "    \"L'viv\",\n",
    "]\n",
    "\n",
    "visited_cities = [\n",
    "    \"Brugge\",\n",
    "    \"Prague\",\n",
    "    \"Florence\",\n",
    "    \"Venice\",\n",
    "    \"Siena\",\n",
    "    \"Naples\",\n",
    "    \"Jerusalem\",\n",
    "    \"Valletta\",\n",
    "    \"Warsaw\",\n",
    "    \"Saint Petersburg\",\n",
    "    \"Bath\",\n",
    "    \"Rome\",\n",
    "    \"L'viv\",\n",
    "    \"San Marino\",\n",
    "    \"Dubrovnik\",\n",
    "    \"Vienna\",\n",
    "]\n",
    "\n",
    "\n",
    "def extract_name_descriptor(place_name: str, descriptor: str) -> str:\n",
    "    descriptor_length = len(descriptor.split())\n",
    "    place_name_words = place_name.split(\",\")[0].split(\" – \")[0].split(\": \")[0].split()\n",
    "    place_name_words = place_name_words[descriptor_length:]\n",
    "\n",
    "    city_name = []\n",
    "    for word in place_name_words:\n",
    "        if (word.lower() in [\"the\", \"city\", \"town\", \"of\"]) & (not city_name):\n",
    "            continue\n",
    "        if (word[0].upper() == word[0]) | (word in [\"de\", \"los\"]):\n",
    "            city_name.append(word)\n",
    "        else:\n",
    "            break\n",
    "\n",
    "    return \" \".join(city_name)\n",
    "\n",
    "\n",
    "def get_city_name(place_name: str) -> str:\n",
    "    for place_descriptor in place_descriptors:\n",
    "        if place_name.lower().startswith(place_descriptor):\n",
    "            return extract_name_descriptor(place_name, place_descriptor)\n",
    "    for known_city in known_cities:\n",
    "        if place_name.lower().startswith(known_city.lower()):\n",
    "            return known_city\n",
    "    return \"No city\""
   ]
  },
  {
   "cell_type": "code",
   "execution_count": null,
   "metadata": {},
   "outputs": [],
   "source": [
    "lines_html = read_html_to_lines(TA_HTML_PATH)\n",
    "\n",
    "html_whs = []\n",
    "i = 0\n",
    "for _, r in df_sites_cats.iterrows():\n",
    "    # if 'city' in r['short_description_en'].lower():\n",
    "    #     if not get_city_name(r['name_en']):\n",
    "    #         print(r['name_en'])\n",
    "    #         print('=====', r['short_description_en'])\n",
    "    # continue\n",
    "    city = get_city_name(r[\"name_en\"])\n",
    "    if city:\n",
    "        i += 1\n",
    "        country_flag = get_flag(r[\"iso_code\"])\n",
    "        country_name = r[\"states_name_en\"].split(\" (\")[0]\n",
    "        visited = \"&#x2714\" if city in visited_cities else \"&#x25A2\"\n",
    "        description = r[\"name_en\"]\n",
    "        # print(i, r['name_en'])\n",
    "        # print('--- ', f\"{city} {country_flag} {country_name} \")\n",
    "        html_whs.append(\"<p>\\n\")\n",
    "        html_whs.append(f\"    {visited};\\n\")\n",
    "        html_whs.append(f'    <span title=\"{description}\">{city}</span>\\n')\n",
    "        html_whs.append(f'    <span title=\"{country_name}\">{country_flag}</span>\\n')\n",
    "        html_whs.append(\"</p>\\n\\n\")\n",
    "\n",
    "lines_html = insert_section(lines_html, html_whs, \"whs\")\n",
    "write_lines_to_html(lines_html, TA_HTML_PATH)"
   ]
  },
  {
   "cell_type": "code",
   "execution_count": null,
   "metadata": {},
   "outputs": [],
   "source": []
  }
 ],
 "metadata": {
  "kernelspec": {
   "display_name": "Python (website)",
   "language": "python",
   "name": ".venv"
  },
  "language_info": {
   "codemirror_mode": {
    "name": "ipython",
    "version": 3
   },
   "file_extension": ".py",
   "mimetype": "text/x-python",
   "name": "python",
   "nbconvert_exporter": "python",
   "pygments_lexer": "ipython3",
   "version": "3.10.19"
  },
  "orig_nbformat": 4
 },
 "nbformat": 4,
 "nbformat_minor": 2
}
